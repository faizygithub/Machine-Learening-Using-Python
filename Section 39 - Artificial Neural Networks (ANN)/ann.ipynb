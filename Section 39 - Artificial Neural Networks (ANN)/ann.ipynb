{
  "nbformat": 4,
  "nbformat_minor": 0,
  "metadata": {
    "colab": {
      "name": "ann.ipynb",
      "provenance": [],
      "collapsed_sections": []
    },
    "kernelspec": {
      "name": "python3",
      "display_name": "Python 3"
    }
  },
  "cells": [
    {
      "cell_type": "code",
      "metadata": {
        "id": "s0c66y6JdujO",
        "colab_type": "code",
        "colab": {}
      },
      "source": [
        "# Code to read csv file into Colaboratory:\n",
        "!pip install -U -q PyDrive\n",
        "from pydrive.auth import GoogleAuth\n",
        "from pydrive.drive import GoogleDrive\n",
        "from google.colab import auth\n",
        "from oauth2client.client import GoogleCredentials\n",
        "# Authenticate and create the PyDrive client.\n",
        "auth.authenticate_user()\n",
        "gauth = GoogleAuth()\n",
        "gauth.credentials = GoogleCredentials.get_application_default()\n",
        "drive = GoogleDrive(gauth)\n"
      ],
      "execution_count": 0,
      "outputs": []
    },
    {
      "cell_type": "code",
      "metadata": {
        "id": "A8wzplVEfdzH",
        "colab_type": "code",
        "colab": {}
      },
      "source": [
        "downloaded = drive.CreateFile({'id':'11yYeZXGfgjHTiAVfC-F_jgxOq2ScUgXQ'}) \n",
        "downloaded.GetContentFile('Churn_Modelling.csv')  #https://drive.google.com/open?id=11yYeZXGfgjHTiAVfC-F_jgxOq2ScUgXQ"
      ],
      "execution_count": 0,
      "outputs": []
    },
    {
      "cell_type": "code",
      "metadata": {
        "id": "lQQQutk2g1K2",
        "colab_type": "code",
        "colab": {}
      },
      "source": [
        "# Part 1 - Data Preprocessing\n",
        "\n",
        "# Importing the libraries\n",
        "import numpy as np\n",
        "import matplotlib.pyplot as plt\n",
        "import pandas as pd"
      ],
      "execution_count": 0,
      "outputs": []
    },
    {
      "cell_type": "code",
      "metadata": {
        "id": "ufgzF31Qh6m3",
        "colab_type": "code",
        "colab": {}
      },
      "source": [
        "# Importing the dataset\n",
        "dataset = pd.read_csv('Churn_Modelling.csv')\n",
        "X = dataset.iloc[:, 3:13].values\n",
        "y = dataset.iloc[:, 13].values"
      ],
      "execution_count": 0,
      "outputs": []
    },
    {
      "cell_type": "code",
      "metadata": {
        "id": "5rie3ZezpSRT",
        "colab_type": "code",
        "outputId": "6ea50011-7aef-4c92-af76-991cb26a56ee",
        "colab": {
          "base_uri": "https://localhost:8080/",
          "height": 290
        }
      },
      "source": [
        "# Encoding categorical data\n",
        "from sklearn.preprocessing import LabelEncoder, OneHotEncoder\n",
        "from sklearn.compose import ColumnTransformer\n",
        "labelencoder_X_1 = LabelEncoder()\n",
        "X[:, 1] = labelencoder_X_1.fit_transform(X[:, 1])\n",
        "print(X[:,1])\n",
        "labelencoder_X_2 = LabelEncoder()\n",
        "X[:, 2] = labelencoder_X_2.fit_transform(X[:, 2])\n",
        "print(X[:,2])\n",
        "onehotencoder = OneHotEncoder()\n",
        "transformer = ColumnTransformer([('one_hot_encoder', OneHotEncoder(), [1])],remainder='passthrough')\n",
        "X = np.array(transformer.fit_transform(X), dtype=np.float)\n",
        "#X = transformer.fit_transform(X).toarray()\n",
        "#X = onehotencoder.fit_transform(X).toarray()\n",
        "# Avoiding dummy variable trap by removing one dummy coloum in geography\n",
        "X = X[:, 1:]\n",
        "print(X)"
      ],
      "execution_count": 0,
      "outputs": [
        {
          "output_type": "stream",
          "text": [
            "[0. 0. 0. ... 0. 1. 0.]\n",
            "[228. 217. 111. ... 318. 381. 401.]\n",
            "[[0.0000000e+00 0.0000000e+00 2.2800000e+02 ... 1.0000000e+00\n",
            "  1.0000000e+00 1.0134888e+05]\n",
            " [0.0000000e+00 1.0000000e+00 2.1700000e+02 ... 0.0000000e+00\n",
            "  1.0000000e+00 1.1254258e+05]\n",
            " [0.0000000e+00 0.0000000e+00 1.1100000e+02 ... 1.0000000e+00\n",
            "  0.0000000e+00 1.1393157e+05]\n",
            " ...\n",
            " [0.0000000e+00 0.0000000e+00 3.1800000e+02 ... 0.0000000e+00\n",
            "  1.0000000e+00 4.2085580e+04]\n",
            " [1.0000000e+00 0.0000000e+00 3.8100000e+02 ... 1.0000000e+00\n",
            "  0.0000000e+00 9.2888520e+04]\n",
            " [0.0000000e+00 0.0000000e+00 4.0100000e+02 ... 1.0000000e+00\n",
            "  0.0000000e+00 3.8190780e+04]]\n"
          ],
          "name": "stdout"
        }
      ]
    },
    {
      "cell_type": "code",
      "metadata": {
        "id": "yr7jeQLsh_aX",
        "colab_type": "code",
        "colab": {}
      },
      "source": [
        "print(X)\n",
        "dataset"
      ],
      "execution_count": 0,
      "outputs": []
    },
    {
      "cell_type": "code",
      "metadata": {
        "id": "u9DPcwfxiEOa",
        "colab_type": "code",
        "colab": {}
      },
      "source": [
        "# Splitting the dataset into the Training set and Test set\n",
        "from sklearn.model_selection import train_test_split\n",
        "X_train, X_test, y_train, y_test = train_test_split(X, y, test_size = 0.2, random_state = 0)"
      ],
      "execution_count": 0,
      "outputs": []
    },
    {
      "cell_type": "code",
      "metadata": {
        "id": "4VTRVbthi-Mi",
        "colab_type": "code",
        "colab": {}
      },
      "source": [
        "# Feature Scaling\n",
        "from sklearn.preprocessing import StandardScaler\n",
        "sc = StandardScaler()\n",
        "X_train = sc.fit_transform(X_train)\n",
        "X_test = sc.transform(X_test)"
      ],
      "execution_count": 0,
      "outputs": []
    },
    {
      "cell_type": "code",
      "metadata": {
        "id": "NtqjFxvPz4Sm",
        "colab_type": "code",
        "colab": {}
      },
      "source": [
        "print(X_train)\n",
        "print(X_test)"
      ],
      "execution_count": 0,
      "outputs": []
    },
    {
      "cell_type": "code",
      "metadata": {
        "id": "ko7dlNotz-nO",
        "colab_type": "code",
        "outputId": "75744967-4556-45ba-996f-8730d5c0c2c9",
        "colab": {
          "base_uri": "https://localhost:8080/",
          "height": 83
        }
      },
      "source": [
        "# Part 2 - Now let's make the ANN!\n",
        "\n",
        "# Importing the Keras libraries and packages\n",
        "import keras\n",
        "from keras.models import Sequential\n",
        "from keras.layers import Dense"
      ],
      "execution_count": 0,
      "outputs": [
        {
          "output_type": "stream",
          "text": [
            "Using TensorFlow backend.\n"
          ],
          "name": "stderr"
        },
        {
          "output_type": "display_data",
          "data": {
            "text/html": [
              "<p style=\"color: red;\">\n",
              "The default version of TensorFlow in Colab will soon switch to TensorFlow 2.x.<br>\n",
              "We recommend you <a href=\"https://www.tensorflow.org/guide/migrate\" target=\"_blank\">upgrade</a> now \n",
              "or ensure your notebook will continue to use TensorFlow 1.x via the <code>%tensorflow_version 1.x</code> magic:\n",
              "<a href=\"https://colab.research.google.com/notebooks/tensorflow_version.ipynb\" target=\"_blank\">more info</a>.</p>\n"
            ],
            "text/plain": [
              "<IPython.core.display.HTML object>"
            ]
          },
          "metadata": {
            "tags": []
          }
        }
      ]
    },
    {
      "cell_type": "code",
      "metadata": {
        "id": "b6SuRpFp0HGE",
        "colab_type": "code",
        "outputId": "14c60a49-4228-4c80-d0fd-8f91fb0afdcd",
        "colab": {
          "base_uri": "https://localhost:8080/",
          "height": 1000
        }
      },
      "source": [
        "# Initialising the ANN\n",
        "classifier = Sequential()\n",
        "\n",
        "# Adding the input layer and the first hidden layer\n",
        "classifier.add(Dense(output_dim = 6, init = 'uniform', activation = 'relu', input_dim = 11))\n",
        "\n",
        "# Adding the second hidden layer\n",
        "classifier.add(Dense(output_dim = 6, init = 'uniform', activation = 'relu'))\n",
        "\n",
        "# Adding the output layer\n",
        "classifier.add(Dense(output_dim = 1, init = 'uniform', activation = 'sigmoid'))\n",
        "\n",
        "# Compiling the ANN\n",
        "classifier.compile(optimizer = 'adam', loss = 'binary_crossentropy', metrics = ['accuracy'])\n",
        "\n",
        "# Fitting the ANN to the Training set\n",
        "classifier.fit(X_train, y_train, batch_size = 10, nb_epoch = 100)"
      ],
      "execution_count": 0,
      "outputs": [
        {
          "output_type": "stream",
          "text": [
            "WARNING:tensorflow:From /usr/local/lib/python3.6/dist-packages/keras/backend/tensorflow_backend.py:66: The name tf.get_default_graph is deprecated. Please use tf.compat.v1.get_default_graph instead.\n",
            "\n",
            "WARNING:tensorflow:From /usr/local/lib/python3.6/dist-packages/keras/backend/tensorflow_backend.py:541: The name tf.placeholder is deprecated. Please use tf.compat.v1.placeholder instead.\n",
            "\n",
            "WARNING:tensorflow:From /usr/local/lib/python3.6/dist-packages/keras/backend/tensorflow_backend.py:4432: The name tf.random_uniform is deprecated. Please use tf.random.uniform instead.\n",
            "\n",
            "WARNING:tensorflow:From /usr/local/lib/python3.6/dist-packages/keras/optimizers.py:793: The name tf.train.Optimizer is deprecated. Please use tf.compat.v1.train.Optimizer instead.\n",
            "\n",
            "WARNING:tensorflow:From /usr/local/lib/python3.6/dist-packages/keras/backend/tensorflow_backend.py:3657: The name tf.log is deprecated. Please use tf.math.log instead.\n",
            "\n",
            "WARNING:tensorflow:From /usr/local/lib/python3.6/dist-packages/tensorflow_core/python/ops/nn_impl.py:183: where (from tensorflow.python.ops.array_ops) is deprecated and will be removed in a future version.\n",
            "Instructions for updating:\n",
            "Use tf.where in 2.0, which has the same broadcast rule as np.where\n"
          ],
          "name": "stdout"
        },
        {
          "output_type": "stream",
          "text": [
            "/usr/local/lib/python3.6/dist-packages/ipykernel_launcher.py:4: UserWarning: Update your `Dense` call to the Keras 2 API: `Dense(activation=\"relu\", input_dim=11, units=6, kernel_initializer=\"uniform\")`\n",
            "  after removing the cwd from sys.path.\n",
            "/usr/local/lib/python3.6/dist-packages/ipykernel_launcher.py:7: UserWarning: Update your `Dense` call to the Keras 2 API: `Dense(activation=\"relu\", units=6, kernel_initializer=\"uniform\")`\n",
            "  import sys\n",
            "/usr/local/lib/python3.6/dist-packages/ipykernel_launcher.py:10: UserWarning: Update your `Dense` call to the Keras 2 API: `Dense(activation=\"sigmoid\", units=1, kernel_initializer=\"uniform\")`\n",
            "  # Remove the CWD from sys.path while we load stuff.\n",
            "/usr/local/lib/python3.6/dist-packages/ipykernel_launcher.py:16: UserWarning: The `nb_epoch` argument in `fit` has been renamed `epochs`.\n",
            "  app.launch_new_instance()\n"
          ],
          "name": "stderr"
        },
        {
          "output_type": "stream",
          "text": [
            "WARNING:tensorflow:From /usr/local/lib/python3.6/dist-packages/keras/backend/tensorflow_backend.py:1033: The name tf.assign_add is deprecated. Please use tf.compat.v1.assign_add instead.\n",
            "\n",
            "WARNING:tensorflow:From /usr/local/lib/python3.6/dist-packages/keras/backend/tensorflow_backend.py:1020: The name tf.assign is deprecated. Please use tf.compat.v1.assign instead.\n",
            "\n",
            "WARNING:tensorflow:From /usr/local/lib/python3.6/dist-packages/keras/backend/tensorflow_backend.py:3005: The name tf.Session is deprecated. Please use tf.compat.v1.Session instead.\n",
            "\n",
            "Epoch 1/100\n",
            "WARNING:tensorflow:From /usr/local/lib/python3.6/dist-packages/keras/backend/tensorflow_backend.py:190: The name tf.get_default_session is deprecated. Please use tf.compat.v1.get_default_session instead.\n",
            "\n",
            "WARNING:tensorflow:From /usr/local/lib/python3.6/dist-packages/keras/backend/tensorflow_backend.py:197: The name tf.ConfigProto is deprecated. Please use tf.compat.v1.ConfigProto instead.\n",
            "\n",
            "WARNING:tensorflow:From /usr/local/lib/python3.6/dist-packages/keras/backend/tensorflow_backend.py:207: The name tf.global_variables is deprecated. Please use tf.compat.v1.global_variables instead.\n",
            "\n",
            "WARNING:tensorflow:From /usr/local/lib/python3.6/dist-packages/keras/backend/tensorflow_backend.py:216: The name tf.is_variable_initialized is deprecated. Please use tf.compat.v1.is_variable_initialized instead.\n",
            "\n",
            "WARNING:tensorflow:From /usr/local/lib/python3.6/dist-packages/keras/backend/tensorflow_backend.py:223: The name tf.variables_initializer is deprecated. Please use tf.compat.v1.variables_initializer instead.\n",
            "\n",
            "8000/8000 [==============================] - 2s 202us/step - loss: 0.4873 - acc: 0.7959\n",
            "Epoch 2/100\n",
            "8000/8000 [==============================] - 1s 123us/step - loss: 0.4295 - acc: 0.7960\n",
            "Epoch 3/100\n",
            "8000/8000 [==============================] - 1s 135us/step - loss: 0.4249 - acc: 0.7960\n",
            "Epoch 4/100\n",
            "8000/8000 [==============================] - 1s 122us/step - loss: 0.4199 - acc: 0.8075\n",
            "Epoch 5/100\n",
            "8000/8000 [==============================] - 1s 128us/step - loss: 0.4171 - acc: 0.8251\n",
            "Epoch 6/100\n",
            "8000/8000 [==============================] - 1s 119us/step - loss: 0.4148 - acc: 0.8274\n",
            "Epoch 7/100\n",
            "8000/8000 [==============================] - 1s 133us/step - loss: 0.4129 - acc: 0.8309\n",
            "Epoch 8/100\n",
            "8000/8000 [==============================] - 1s 125us/step - loss: 0.4114 - acc: 0.8325\n",
            "Epoch 9/100\n",
            "8000/8000 [==============================] - 1s 123us/step - loss: 0.4103 - acc: 0.8330\n",
            "Epoch 10/100\n",
            "8000/8000 [==============================] - 1s 120us/step - loss: 0.4092 - acc: 0.8334\n",
            "Epoch 11/100\n",
            "8000/8000 [==============================] - 1s 125us/step - loss: 0.4081 - acc: 0.8341\n",
            "Epoch 12/100\n",
            "8000/8000 [==============================] - 1s 122us/step - loss: 0.4070 - acc: 0.8356\n",
            "Epoch 13/100\n",
            "8000/8000 [==============================] - 1s 120us/step - loss: 0.4064 - acc: 0.8347\n",
            "Epoch 14/100\n",
            "8000/8000 [==============================] - 1s 123us/step - loss: 0.4054 - acc: 0.8350\n",
            "Epoch 15/100\n",
            "8000/8000 [==============================] - 1s 122us/step - loss: 0.4048 - acc: 0.8347\n",
            "Epoch 16/100\n",
            "8000/8000 [==============================] - 1s 121us/step - loss: 0.4038 - acc: 0.8346\n",
            "Epoch 17/100\n",
            "8000/8000 [==============================] - 1s 125us/step - loss: 0.4038 - acc: 0.8360\n",
            "Epoch 18/100\n",
            "8000/8000 [==============================] - 1s 122us/step - loss: 0.4034 - acc: 0.8362\n",
            "Epoch 19/100\n",
            "8000/8000 [==============================] - 1s 130us/step - loss: 0.4025 - acc: 0.8347\n",
            "Epoch 20/100\n",
            "8000/8000 [==============================] - 1s 125us/step - loss: 0.4025 - acc: 0.8360\n",
            "Epoch 21/100\n",
            "8000/8000 [==============================] - 1s 129us/step - loss: 0.4019 - acc: 0.8352\n",
            "Epoch 22/100\n",
            "8000/8000 [==============================] - 1s 123us/step - loss: 0.4020 - acc: 0.8345\n",
            "Epoch 23/100\n",
            "8000/8000 [==============================] - 1s 127us/step - loss: 0.4015 - acc: 0.8367\n",
            "Epoch 24/100\n",
            "8000/8000 [==============================] - 1s 123us/step - loss: 0.4011 - acc: 0.8356\n",
            "Epoch 25/100\n",
            "8000/8000 [==============================] - 1s 121us/step - loss: 0.4011 - acc: 0.8372\n",
            "Epoch 26/100\n",
            "8000/8000 [==============================] - 1s 130us/step - loss: 0.4009 - acc: 0.8356\n",
            "Epoch 27/100\n",
            "8000/8000 [==============================] - 1s 120us/step - loss: 0.4008 - acc: 0.8382\n",
            "Epoch 28/100\n",
            "8000/8000 [==============================] - 1s 124us/step - loss: 0.4000 - acc: 0.8354\n",
            "Epoch 29/100\n",
            "8000/8000 [==============================] - 1s 129us/step - loss: 0.4003 - acc: 0.8366\n",
            "Epoch 30/100\n",
            "8000/8000 [==============================] - 1s 124us/step - loss: 0.4004 - acc: 0.8359\n",
            "Epoch 31/100\n",
            "8000/8000 [==============================] - 1s 128us/step - loss: 0.4003 - acc: 0.8365\n",
            "Epoch 32/100\n",
            "8000/8000 [==============================] - 1s 136us/step - loss: 0.4000 - acc: 0.8367\n",
            "Epoch 33/100\n",
            "8000/8000 [==============================] - 1s 136us/step - loss: 0.3995 - acc: 0.8374\n",
            "Epoch 34/100\n",
            "8000/8000 [==============================] - 1s 135us/step - loss: 0.3993 - acc: 0.8357\n",
            "Epoch 35/100\n",
            "8000/8000 [==============================] - 1s 139us/step - loss: 0.3998 - acc: 0.8371\n",
            "Epoch 36/100\n",
            "8000/8000 [==============================] - 1s 137us/step - loss: 0.3991 - acc: 0.8377\n",
            "Epoch 37/100\n",
            "8000/8000 [==============================] - 1s 131us/step - loss: 0.3996 - acc: 0.8370\n",
            "Epoch 38/100\n",
            "8000/8000 [==============================] - 1s 137us/step - loss: 0.3993 - acc: 0.8387\n",
            "Epoch 39/100\n",
            "8000/8000 [==============================] - 1s 131us/step - loss: 0.3994 - acc: 0.8359\n",
            "Epoch 40/100\n",
            "8000/8000 [==============================] - 1s 137us/step - loss: 0.3990 - acc: 0.8357\n",
            "Epoch 41/100\n",
            "8000/8000 [==============================] - 1s 135us/step - loss: 0.3988 - acc: 0.8371\n",
            "Epoch 42/100\n",
            "8000/8000 [==============================] - 1s 123us/step - loss: 0.3990 - acc: 0.8366\n",
            "Epoch 43/100\n",
            "8000/8000 [==============================] - 1s 127us/step - loss: 0.3989 - acc: 0.8384\n",
            "Epoch 44/100\n",
            "8000/8000 [==============================] - 1s 123us/step - loss: 0.3992 - acc: 0.8381\n",
            "Epoch 45/100\n",
            "8000/8000 [==============================] - 1s 123us/step - loss: 0.3991 - acc: 0.8380\n",
            "Epoch 46/100\n",
            "8000/8000 [==============================] - 1s 124us/step - loss: 0.3985 - acc: 0.8387\n",
            "Epoch 47/100\n",
            "8000/8000 [==============================] - 1s 125us/step - loss: 0.3979 - acc: 0.8367\n",
            "Epoch 48/100\n",
            "8000/8000 [==============================] - 1s 123us/step - loss: 0.3984 - acc: 0.8370\n",
            "Epoch 49/100\n",
            "8000/8000 [==============================] - 1s 122us/step - loss: 0.3982 - acc: 0.8385\n",
            "Epoch 50/100\n",
            "8000/8000 [==============================] - 1s 129us/step - loss: 0.3978 - acc: 0.8380\n",
            "Epoch 51/100\n",
            "8000/8000 [==============================] - 1s 122us/step - loss: 0.3984 - acc: 0.8367\n",
            "Epoch 52/100\n",
            "8000/8000 [==============================] - 1s 124us/step - loss: 0.3982 - acc: 0.8379\n",
            "Epoch 53/100\n",
            "8000/8000 [==============================] - 1s 123us/step - loss: 0.3985 - acc: 0.8381\n",
            "Epoch 54/100\n",
            "8000/8000 [==============================] - 1s 126us/step - loss: 0.3984 - acc: 0.8380\n",
            "Epoch 55/100\n",
            "8000/8000 [==============================] - 1s 125us/step - loss: 0.3977 - acc: 0.8382\n",
            "Epoch 56/100\n",
            "8000/8000 [==============================] - 1s 125us/step - loss: 0.3981 - acc: 0.8381\n",
            "Epoch 57/100\n",
            "8000/8000 [==============================] - 1s 135us/step - loss: 0.3978 - acc: 0.8374\n",
            "Epoch 58/100\n",
            "8000/8000 [==============================] - 1s 122us/step - loss: 0.3973 - acc: 0.8379\n",
            "Epoch 59/100\n",
            "8000/8000 [==============================] - 1s 126us/step - loss: 0.3977 - acc: 0.8380\n",
            "Epoch 60/100\n",
            "8000/8000 [==============================] - 1s 131us/step - loss: 0.3979 - acc: 0.8384\n",
            "Epoch 61/100\n",
            "8000/8000 [==============================] - 1s 119us/step - loss: 0.3977 - acc: 0.8387\n",
            "Epoch 62/100\n",
            "8000/8000 [==============================] - 1s 131us/step - loss: 0.3978 - acc: 0.8362\n",
            "Epoch 63/100\n",
            "8000/8000 [==============================] - 1s 120us/step - loss: 0.3977 - acc: 0.8384\n",
            "Epoch 64/100\n",
            "8000/8000 [==============================] - 1s 122us/step - loss: 0.3982 - acc: 0.8352\n",
            "Epoch 65/100\n",
            "8000/8000 [==============================] - 1s 129us/step - loss: 0.3975 - acc: 0.8376\n",
            "Epoch 66/100\n",
            "8000/8000 [==============================] - 1s 130us/step - loss: 0.3976 - acc: 0.8362\n",
            "Epoch 67/100\n",
            "8000/8000 [==============================] - 1s 121us/step - loss: 0.3974 - acc: 0.8365\n",
            "Epoch 68/100\n",
            "8000/8000 [==============================] - 1s 125us/step - loss: 0.3976 - acc: 0.8375\n",
            "Epoch 69/100\n",
            "8000/8000 [==============================] - 1s 120us/step - loss: 0.3976 - acc: 0.8360\n",
            "Epoch 70/100\n",
            "8000/8000 [==============================] - 1s 134us/step - loss: 0.3966 - acc: 0.8376\n",
            "Epoch 71/100\n",
            "8000/8000 [==============================] - 1s 122us/step - loss: 0.3977 - acc: 0.8372\n",
            "Epoch 72/100\n",
            "8000/8000 [==============================] - 1s 124us/step - loss: 0.3975 - acc: 0.8374\n",
            "Epoch 73/100\n",
            "8000/8000 [==============================] - 1s 125us/step - loss: 0.3973 - acc: 0.8382\n",
            "Epoch 74/100\n",
            "8000/8000 [==============================] - 1s 123us/step - loss: 0.3974 - acc: 0.8376\n",
            "Epoch 75/100\n",
            "8000/8000 [==============================] - 1s 120us/step - loss: 0.3969 - acc: 0.8379\n",
            "Epoch 76/100\n",
            "8000/8000 [==============================] - 1s 121us/step - loss: 0.3972 - acc: 0.8377\n",
            "Epoch 77/100\n",
            "8000/8000 [==============================] - 1s 125us/step - loss: 0.3969 - acc: 0.8370\n",
            "Epoch 78/100\n",
            "8000/8000 [==============================] - 1s 128us/step - loss: 0.3968 - acc: 0.8362\n",
            "Epoch 79/100\n",
            "8000/8000 [==============================] - 1s 128us/step - loss: 0.3970 - acc: 0.8384\n",
            "Epoch 80/100\n",
            "8000/8000 [==============================] - 1s 129us/step - loss: 0.3969 - acc: 0.8366\n",
            "Epoch 81/100\n",
            "8000/8000 [==============================] - 1s 120us/step - loss: 0.3970 - acc: 0.8350\n",
            "Epoch 82/100\n",
            "8000/8000 [==============================] - 1s 127us/step - loss: 0.3969 - acc: 0.8391\n",
            "Epoch 83/100\n",
            "8000/8000 [==============================] - 1s 123us/step - loss: 0.3968 - acc: 0.8399\n",
            "Epoch 84/100\n",
            "8000/8000 [==============================] - 1s 123us/step - loss: 0.3966 - acc: 0.8386\n",
            "Epoch 85/100\n",
            "8000/8000 [==============================] - 1s 124us/step - loss: 0.3971 - acc: 0.8369\n",
            "Epoch 86/100\n",
            "8000/8000 [==============================] - 1s 123us/step - loss: 0.3968 - acc: 0.8375\n",
            "Epoch 87/100\n",
            "8000/8000 [==============================] - 1s 123us/step - loss: 0.3972 - acc: 0.8386\n",
            "Epoch 88/100\n",
            "8000/8000 [==============================] - 1s 124us/step - loss: 0.3967 - acc: 0.8375\n",
            "Epoch 89/100\n",
            "8000/8000 [==============================] - 1s 124us/step - loss: 0.3968 - acc: 0.8367\n",
            "Epoch 90/100\n",
            "8000/8000 [==============================] - 1s 125us/step - loss: 0.3968 - acc: 0.8384\n",
            "Epoch 91/100\n",
            "8000/8000 [==============================] - 1s 124us/step - loss: 0.3964 - acc: 0.8386\n",
            "Epoch 92/100\n",
            "8000/8000 [==============================] - 1s 124us/step - loss: 0.3966 - acc: 0.8375\n",
            "Epoch 93/100\n",
            "8000/8000 [==============================] - 1s 123us/step - loss: 0.3966 - acc: 0.8387\n",
            "Epoch 94/100\n",
            "8000/8000 [==============================] - 1s 122us/step - loss: 0.3968 - acc: 0.8372\n",
            "Epoch 95/100\n",
            "8000/8000 [==============================] - 1s 125us/step - loss: 0.3968 - acc: 0.8386\n",
            "Epoch 96/100\n",
            "8000/8000 [==============================] - 1s 131us/step - loss: 0.3969 - acc: 0.8382\n",
            "Epoch 97/100\n",
            "8000/8000 [==============================] - 1s 122us/step - loss: 0.3969 - acc: 0.8370\n",
            "Epoch 98/100\n",
            "8000/8000 [==============================] - 1s 122us/step - loss: 0.3961 - acc: 0.8387\n",
            "Epoch 99/100\n",
            "8000/8000 [==============================] - 1s 119us/step - loss: 0.3965 - acc: 0.8379\n",
            "Epoch 100/100\n",
            "8000/8000 [==============================] - 1s 122us/step - loss: 0.3964 - acc: 0.8364\n"
          ],
          "name": "stdout"
        },
        {
          "output_type": "execute_result",
          "data": {
            "text/plain": [
              "<keras.callbacks.History at 0x7fd9070a33c8>"
            ]
          },
          "metadata": {
            "tags": []
          },
          "execution_count": 29
        }
      ]
    },
    {
      "cell_type": "code",
      "metadata": {
        "id": "iXw1XHUo5trU",
        "colab_type": "code",
        "colab": {}
      },
      "source": [
        "# Part 3 - Making the predictions and evaluating the model\n",
        "\n",
        "# Predicting the Test set results\n",
        "y_pred = classifier.predict(X_test)\n",
        "y_pred = (y_pred > 0.5)"
      ],
      "execution_count": 0,
      "outputs": []
    },
    {
      "cell_type": "code",
      "metadata": {
        "id": "2exiwSFT7gV7",
        "colab_type": "code",
        "colab": {}
      },
      "source": [
        "# Making the Confusion Matrix\n",
        "from sklearn.metrics import confusion_matrix\n",
        "cm = confusion_matrix(y_test, y_pred)"
      ],
      "execution_count": 0,
      "outputs": []
    },
    {
      "cell_type": "code",
      "metadata": {
        "id": "oqOT-yEB7mKJ",
        "colab_type": "code",
        "outputId": "f9018b89-fd52-4f0a-efcd-0bfa9e74f074",
        "colab": {
          "base_uri": "https://localhost:8080/",
          "height": 54
        }
      },
      "source": [
        "cm"
      ],
      "execution_count": 0,
      "outputs": [
        {
          "output_type": "execute_result",
          "data": {
            "text/plain": [
              "array([[1548,   47],\n",
              "       [ 273,  132]])"
            ]
          },
          "metadata": {
            "tags": []
          },
          "execution_count": 33
        }
      ]
    },
    {
      "cell_type": "code",
      "metadata": {
        "id": "aJ4GAe5Q7ny9",
        "colab_type": "code",
        "colab": {}
      },
      "source": [
        ""
      ],
      "execution_count": 0,
      "outputs": []
    }
  ]
}